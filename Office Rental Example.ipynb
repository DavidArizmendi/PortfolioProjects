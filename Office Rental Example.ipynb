{
 "cells": [
  {
   "cell_type": "markdown",
   "metadata": {},
   "source": [
    "## Office Rental Program Example"
   ]
  },
  {
   "cell_type": "markdown",
   "metadata": {},
   "source": [
    "#### This is one of the first Python projects I ever worked on\n",
    "#### The goal of this Python program is: given certain rates, compute monthly cost of renting an office at a certain building "
   ]
  },
  {
   "cell_type": "code",
   "execution_count": 3,
   "metadata": {},
   "outputs": [
    {
     "name": "stdout",
     "output_type": "stream",
     "text": [
      "Need Office Space?\n",
      "==================\n",
      "1- Private Office\n",
      "2-Colocation\n",
      "3-Temporary Workspace\n",
      "What type of Space? 1, 2, or 3? 1\n",
      "Phone Service? (y/n) y\n",
      "How many minutes do you need? 5000\n",
      "Your monthly charge is $3500.0\n",
      "Another quote? (y/n) y\n",
      "Need Office Space?\n",
      "==================\n",
      "1- Private Office\n",
      "2-Colocation\n",
      "3-Temporary Workspace\n",
      "What type of Space? 1, 2, or 3? 2\n",
      "Phone Service? (y/n) y\n",
      "How many minutes do you need? 3000\n",
      "Your monthly charge is $2000.0\n",
      "Another quote? (y/n) y\n",
      "Need Office Space?\n",
      "==================\n",
      "1- Private Office\n",
      "2-Colocation\n",
      "3-Temporary Workspace\n",
      "What type of Space? 1, 2, or 3? 3\n",
      "How many days do you need? 15\n",
      "Phone Service? (y/n) n\n",
      "Your monthly charge is $900\n",
      "Another quote? (y/n) n\n",
      "Average quotation provided was $2133.3333333333335\n",
      "Press any key to continue...\n"
     ]
    }
   ],
   "source": [
    "Estimate = 0 \n",
    "Count = 0\n",
    "\n",
    "Quote = \"y\"\n",
    "\n",
    "while(Quote == \"y\"):\n",
    "    print(\"Need Office Space?\") \n",
    "    print(\"==================\")\n",
    "    print(\"1- Private Office\")\n",
    "    print(\"2-Colocation\")\n",
    "    print(\"3-Temporary Workspace\")\n",
    "\n",
    "    Space = (input(\"What type of Space? 1, 2, or 3? \"))\n",
    "    RentCharges = 0\n",
    "    PhoneCharges = 0\n",
    "\n",
    "    if Space == \"1\":\n",
    "        RentCharges += 1000\n",
    "    elif Space == \"2\":\n",
    "        RentCharges += 500\n",
    "    elif Space == \"3\":\n",
    "        days = int(input(\"How many days do you need? \"))\n",
    "        RentCharges += (days *60)\n",
    "    \n",
    "    PhoneService = input(\"Phone Service? (y/n) \")\n",
    "    if PhoneService == \"y\":\n",
    "        mins = int(input(\"How many minutes do you need? \"))\n",
    "        PhoneCharges += (mins * .50)\n",
    "    \n",
    "    print(\"Your monthly charge is $\" + str(RentCharges + PhoneCharges))\n",
    "    \n",
    "    Count += 1 \n",
    "    Estimate += RentCharges + PhoneCharges\n",
    "    \n",
    "    Quote = input(\"Another quote? (y/n) \")\n",
    "    if Quote != \"y\":\n",
    "        break\n",
    "    \n",
    "print(\"Average quotation provided was $\" + str(Estimate/Count))\n",
    "\n",
    "if Quote != \"y\":\n",
    "    print(\"Press any key to continue...\")"
   ]
  }
 ],
 "metadata": {
  "kernelspec": {
   "display_name": "Python 3",
   "language": "python",
   "name": "python3"
  },
  "language_info": {
   "codemirror_mode": {
    "name": "ipython",
    "version": 3
   },
   "file_extension": ".py",
   "mimetype": "text/x-python",
   "name": "python",
   "nbconvert_exporter": "python",
   "pygments_lexer": "ipython3",
   "version": "3.8.5"
  }
 },
 "nbformat": 4,
 "nbformat_minor": 4
}
